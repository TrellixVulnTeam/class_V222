{
 "cells": [
  {
   "cell_type": "markdown",
   "id": "aa5372b3",
   "metadata": {},
   "source": [
    "# 1. 세로로 출력하기"
   ]
  },
  {
   "cell_type": "markdown",
   "id": "08dd74a1",
   "metadata": {},
   "source": [
    "__자연수 number 를 입력 받아, 1부터 number 까지의 수를 세로로 한줄씩 출력하시오.__"
   ]
  },
  {
   "cell_type": "code",
   "execution_count": null,
   "id": "ec282c7b",
   "metadata": {},
   "outputs": [],
   "source": [
    "number = int(input('자연수를 입력하세요 : '))\n",
    "\n",
    "for i in range(1, number + 1):\n",
    "    print(i)"
   ]
  },
  {
   "cell_type": "markdown",
   "id": "9ad16e95",
   "metadata": {},
   "source": [
    "# 2. 가로로 출력하기"
   ]
  },
  {
   "cell_type": "code",
   "execution_count": null,
   "id": "b1cf1388",
   "metadata": {},
   "outputs": [],
   "source": [
    "number = int(input('자연수를 입력하세요 : '))\n",
    "\n",
    "for i in range(2, number + 1, 2):\n",
    "    print(i, end = ' ')"
   ]
  },
  {
   "cell_type": "markdown",
   "id": "ef8ddac7",
   "metadata": {},
   "source": [
    "# 3. 거꾸로 세로로 출력하기\n",
    "\n",
    "__자연수 number 를 입력 받아, number 부터 0까지의 수를 세로로 한 줄 씩 출력하세요.__"
   ]
  },
  {
   "cell_type": "code",
   "execution_count": null,
   "id": "bf0c6e5f",
   "metadata": {},
   "outputs": [],
   "source": [
    "number = int(input('자연수를 입력하세요 : '))\n",
    "\n",
    "for i in range(number, -4, -2):\n",
    "    print(i)"
   ]
  },
  {
   "cell_type": "markdown",
   "id": "525ac652",
   "metadata": {},
   "source": [
    "# 4. 거꾸로 가로로 출력하기"
   ]
  },
  {
   "cell_type": "code",
   "execution_count": null,
   "id": "768bf95d",
   "metadata": {},
   "outputs": [],
   "source": [
    "number = int(input('자연수를 입력하세요 : '))\n",
    "\n",
    "for i in range(number, -4, -2):\n",
    "    print(i, end = ' ')"
   ]
  },
  {
   "cell_type": "markdown",
   "id": "232541ac",
   "metadata": {},
   "source": [
    "# 5. N줄 덧셈\n",
    "\n",
    "[문제] : 입력으로 자연수 number 가 주어질 때, 1부터 주어진 자연수 number 까지를 모두 더한 값을 출력하세요.  \n",
    "[조건] : 단, 주어지는 숫자는 10,000을 넘지 않는다.  \n",
    "[예시] : 예를 들어, 주어진 숫자가 10일 경우 1+2+3+....+10 = 55 이므로, 55를 출력한다  "
   ]
  },
  {
   "cell_type": "code",
   "execution_count": null,
   "id": "1a930b0d",
   "metadata": {},
   "outputs": [],
   "source": [
    "number = int(input('자연수를 입력하세요 : '))\n",
    "\n",
    "result = 0\n",
    "for num in range(1, number + 1):\n",
    "    result += num\n",
    "    \n",
    "print(result)"
   ]
  },
  {
   "cell_type": "markdown",
   "id": "7559c452",
   "metadata": {},
   "source": [
    "# 5.1 N줄 덧셈 ( 홀수만 )\n",
    "\n",
    "[문제] : 입력으로 자연수 number 가 주어질 때, 1부터 주어진 자연수 number 까지 중 홀수만 더한 값을 출력하세요  \n",
    "[조건] : 단, 주어지는 숫자는 10,000을 넘지 않는다.  "
   ]
  },
  {
   "cell_type": "code",
   "execution_count": null,
   "id": "5b27363c",
   "metadata": {},
   "outputs": [],
   "source": [
    "number = int(input('자연수를 입력하세요 : '))\n",
    "\n",
    "result = 0\n",
    "for num in range(1, number + 1):\n",
    "    # 홀수 일 때만 더해라\n",
    "    if num % 2 != 0:\n",
    "        result += num\n",
    "    \n",
    "print(result)"
   ]
  },
  {
   "cell_type": "markdown",
   "id": "1a1a4c66",
   "metadata": {},
   "source": [
    "# 함수를 쓰는 이유\n",
    "\n",
    "- 가독성 증가\n",
    "    - 명령의 시작과 끝이 명확하게 보이기 때문\n",
    "    \n",
    "- __재사용성__\n",
    "    - 이름을 붙여서 같은 기능이 필요할 때마다 재사용 가능"
   ]
  },
  {
   "cell_type": "markdown",
   "id": "adf11409",
   "metadata": {},
   "source": [
    "# 파이썬 함수의 종류"
   ]
  },
  {
   "cell_type": "markdown",
   "id": "6a536d2b",
   "metadata": {},
   "source": [
    "### 내장함수\n",
    "    - 파이썬에 기본적으로 포함된 함수"
   ]
  },
  {
   "cell_type": "code",
   "execution_count": null,
   "id": "79c66cd4",
   "metadata": {},
   "outputs": [],
   "source": [
    "a = [1, 2, 3]\n",
    "print(sum(a))"
   ]
  },
  {
   "cell_type": "markdown",
   "id": "df5a03c4",
   "metadata": {},
   "source": [
    "### 외장함수\n",
    "- import 로 불러와서 사용. 외부 라이브러리에서 제공하는 함수\n",
    "- 우리가 만들수도 있다"
   ]
  },
  {
   "cell_type": "code",
   "execution_count": null,
   "id": "1ac1057e",
   "metadata": {},
   "outputs": [],
   "source": [
    "# 난수를 뽑아오는 함수\n",
    "import random\n",
    "# 1~10 사이 숫자 중 랜덤으로 뽑아오는 함수\n",
    "num = random.randrange(1, 11)\n",
    "print(num)"
   ]
  },
  {
   "cell_type": "markdown",
   "id": "6773c9d1",
   "metadata": {},
   "source": [
    "### 사용자 정의 함수\n",
    "- 사용자가 직접 만드는 함수"
   ]
  },
  {
   "cell_type": "code",
   "execution_count": null,
   "id": "c88fb674",
   "metadata": {},
   "outputs": [],
   "source": [
    "def plus(a, b):\n",
    "    return a + b\n",
    "\n",
    "plus(1, 2)"
   ]
  },
  {
   "cell_type": "markdown",
   "id": "99fa062c",
   "metadata": {},
   "source": [
    "# 파라미터(Parameter) 와 전달인자(Argument)\n",
    "\n",
    "### 파라미터(Parameter)\n",
    "- 함수의 정의 부분(__선언 할 때__) 괄호 안에 나열되어 있는 변수\n",
    "\n",
    "### 전달인자(Argument)\n",
    "- 함수를 __호출 할 때__ 전달되는 실제 값"
   ]
  },
  {
   "cell_type": "code",
   "execution_count": null,
   "id": "2466b1e0",
   "metadata": {},
   "outputs": [],
   "source": [
    "# 정의 시 사용한 a, b가 파라미터\n",
    "def plus(a, b):\n",
    "    return a + b\n",
    "\n",
    "# 호출 시 사용한 1, 2 가 전달인자\n",
    "plus(1, 2)"
   ]
  },
  {
   "cell_type": "markdown",
   "id": "00f1e87b",
   "metadata": {},
   "source": [
    "# 함수의 결과값( return )"
   ]
  },
  {
   "cell_type": "markdown",
   "id": "bc6eee98",
   "metadata": {},
   "source": [
    "# 함수 Default 값 설정\n",
    "\n",
    "- 함수 선언 시 변수 뒤에 기본값을 설정할 수 있다"
   ]
  },
  {
   "cell_type": "code",
   "execution_count": null,
   "id": "6eb03b5a",
   "metadata": {},
   "outputs": [],
   "source": [
    "def func(a = 'a', b = 'b'):\n",
    "    print(a)\n",
    "    print(b)\n",
    "    \n",
    "func()"
   ]
  },
  {
   "cell_type": "markdown",
   "id": "75cfd04f",
   "metadata": {},
   "source": [
    "__앞에서부터는 활용할 수 없다!!__"
   ]
  },
  {
   "cell_type": "code",
   "execution_count": null,
   "id": "0c7000ac",
   "metadata": {},
   "outputs": [],
   "source": [
    "def func(a, b='b'):\n",
    "    print(a)\n",
    "    print(b)\n",
    "    \n",
    "func(1)"
   ]
  },
  {
   "cell_type": "markdown",
   "id": "2037f471",
   "metadata": {},
   "source": [
    "# Asterisk (애스터리스크)\n",
    "\n",
    "- 파라미터의 개수가 정해지지 않을 때 사용"
   ]
  },
  {
   "cell_type": "code",
   "execution_count": null,
   "id": "25314e65",
   "metadata": {},
   "outputs": [],
   "source": [
    "# 모든 리스트의 합을 구하는 함수\n",
    "def func(*args):\n",
    "    result = 0\n",
    "    for num in args[0]:\n",
    "        result += num\n",
    "    return result\n",
    "\n",
    "a = [1, 2, 3, 4, 5]\n",
    "print(func(a))"
   ]
  },
  {
   "cell_type": "code",
   "execution_count": null,
   "id": "808d6a05",
   "metadata": {},
   "outputs": [],
   "source": [
    "def func(a = 'a', b = 'b', **kwargs):\n",
    "    print(f'a = {a}')\n",
    "    print(f'b = {b}')\n",
    "    print(f'kwargs = {kwargs}')\n",
    "    \n",
    "func(c=1, d=2, e=3)"
   ]
  },
  {
   "cell_type": "markdown",
   "id": "54e8009f",
   "metadata": {},
   "source": [
    "# LEGB rule\n",
    "- scope\n",
    "\n",
    "- Local\n",
    "- enclosed ( nonlocal )\n",
    "- global\n",
    "- build-in"
   ]
  },
  {
   "cell_type": "code",
   "execution_count": null,
   "id": "72052166",
   "metadata": {
    "scrolled": true
   },
   "outputs": [],
   "source": [
    "# global\n",
    "a = 1\n",
    "def func():\n",
    "    a = 5\n",
    "    \n",
    "func()\n",
    "print(a)"
   ]
  },
  {
   "cell_type": "markdown",
   "id": "98b96a24",
   "metadata": {},
   "source": [
    "## nonlocal"
   ]
  },
  {
   "cell_type": "code",
   "execution_count": null,
   "id": "4da0373d",
   "metadata": {
    "scrolled": true
   },
   "outputs": [],
   "source": [
    "def func():\n",
    "    x = 1\n",
    "    def func2():\n",
    "        print(x)\n",
    "        x = 2\n",
    "    print(x)\n",
    "    func2()\n",
    "        \n",
    "func()"
   ]
  },
  {
   "cell_type": "code",
   "execution_count": null,
   "id": "a06aafaa",
   "metadata": {},
   "outputs": [],
   "source": [
    "def func():\n",
    "    x = 1\n",
    "    def func2():\n",
    "        nonlocal x\n",
    "        x = 2\n",
    "        def func3():\n",
    "            nonlocal x\n",
    "            x = 4\n",
    "            print(x)\n",
    "        func3()\n",
    "        print(x)\n",
    "    func2()\n",
    "    print(x)\n",
    "        \n",
    "func()"
   ]
  },
  {
   "cell_type": "code",
   "execution_count": null,
   "id": "beeb2449",
   "metadata": {},
   "outputs": [],
   "source": [
    "print(3)\n",
    "def func1():\n",
    "    print(a)\n",
    "    global a\n",
    "    a = 3\n",
    "func1()\n",
    "print(a)"
   ]
  },
  {
   "cell_type": "markdown",
   "id": "577a9069",
   "metadata": {},
   "source": [
    "# 함수 응용"
   ]
  },
  {
   "cell_type": "markdown",
   "id": "b821024a",
   "metadata": {},
   "source": [
    "## map\n",
    "\n",
    "__1. 입력 데이터는 순회 가능해야 한다__  \n",
    "__2. 모든 요소에 함수를 적용하는 기능__  \n",
    "__3. 새로운 object(map object)를 반환합니다__  "
   ]
  },
  {
   "cell_type": "code",
   "execution_count": null,
   "id": "d15cdb3f",
   "metadata": {},
   "outputs": [],
   "source": [
    "tmp = [1, 2, 3, 4, 5]\n",
    "\n",
    "def plus2():\n",
    "    return n + 2\n",
    "\n",
    "result = map(plus2, tmp)\n",
    "print(list(result))"
   ]
  },
  {
   "cell_type": "code",
   "execution_count": null,
   "id": "6b394a07",
   "metadata": {},
   "outputs": [],
   "source": [
    "# 파라미터를 2개 이상 사용 함수도 가능한가\n",
    "# 리스트 2개를 모두 더하는 함수\n",
    "\n",
    "a = [1, 2, 3, 4]\n",
    "b = [5, 6, 7, 8]\n",
    "\n",
    "# 원하는 결과 = [6, 8, 10, 12]\n",
    "\n",
    "def sum_func(x, y):\n",
    "    return x + y\n",
    "\n",
    "result = list(map(sum_func, a, b))\n",
    "print(result)"
   ]
  },
  {
   "cell_type": "markdown",
   "id": "206f1bb3",
   "metadata": {},
   "source": [
    "### 코딩테스트 단골 활용"
   ]
  },
  {
   "cell_type": "code",
   "execution_count": null,
   "id": "682aff39",
   "metadata": {},
   "outputs": [],
   "source": [
    "# 변수 5개 입력\n",
    "input_list = list(map(int, input().split(',')))\n",
    "print(input_list)"
   ]
  },
  {
   "cell_type": "markdown",
   "id": "22443997",
   "metadata": {},
   "source": [
    "## filter\n",
    "\n",
    "__1. 입력 데이터는 순회 가능해야 한다__  \n",
    "__2. 모든 요소에 함수를 적용한다__  \n",
    "__3. 함수 실행 결과가 True 인 요소만 남긴다__  \n",
    "__4. 새로운 object(filter object)를 반환한다__  "
   ]
  },
  {
   "cell_type": "code",
   "execution_count": 2,
   "id": "650419a4",
   "metadata": {},
   "outputs": [
    {
     "name": "stdout",
     "output_type": "stream",
     "text": [
      "[0, 2, 4, 6, 8]\n"
     ]
    }
   ],
   "source": [
    "a = list(range(10))\n",
    "\n",
    "def odd(n):\n",
    "    if n % 2 == 0:\n",
    "        return True\n",
    "    else:\n",
    "        return False\n",
    "#     return True if n % 2 == 0 else False\n",
    "\n",
    "result = list(filter(odd, a))\n",
    "print(result)"
   ]
  },
  {
   "cell_type": "markdown",
   "id": "5a2577e3",
   "metadata": {},
   "source": [
    "## zip\n",
    "\n",
    "__1. 입력 데이터 순회 여부 상관 없다__  \n",
    "__2. 튜플을 원소로 하는 새로운 object(zip object)를 반환한다__  \n",
    "\n",
    "- 더 적은 개수의 리스트에 맞춰서 실행된다 ( 오버되는 요소들은 생략됨 )"
   ]
  },
  {
   "cell_type": "code",
   "execution_count": 10,
   "id": "4ea2b066",
   "metadata": {},
   "outputs": [
    {
     "name": "stdout",
     "output_type": "stream",
     "text": [
      "[('a', 'b'), ('aa', 'bb')]\n"
     ]
    }
   ],
   "source": [
    "a = ['a', 'aa', 'c']\n",
    "b = ['b', 'bb']\n",
    "pair = zip(a, b)\n",
    "print(list(pair))"
   ]
  },
  {
   "cell_type": "markdown",
   "id": "ba652cfe",
   "metadata": {},
   "source": [
    "## Lambda\n",
    "\n",
    "### 장점\n",
    "- 코드의 간결성\n",
    "    - 정의해서 사용하는 것보다 코드가 간결해진다\n",
    "    \n",
    "### 함수형 프로그래밍(functional programming) 에 많이 쓰인다\n",
    "    - 이건 좀 어려운 개념"
   ]
  },
  {
   "cell_type": "code",
   "execution_count": 12,
   "id": "b71dcf88",
   "metadata": {},
   "outputs": [
    {
     "name": "stdout",
     "output_type": "stream",
     "text": [
      "4\n"
     ]
    }
   ],
   "source": [
    "# lambda 는 값을 반환하는 형태이다\n",
    "c = lambda a: a + 2\n",
    "\n",
    "result = c(2)\n",
    "print(result)"
   ]
  },
  {
   "cell_type": "code",
   "execution_count": 13,
   "id": "a14ace47",
   "metadata": {},
   "outputs": [
    {
     "name": "stdout",
     "output_type": "stream",
     "text": [
      "[0, 2, 4, 6, 8]\n"
     ]
    }
   ],
   "source": [
    "a = list(range(10))\n",
    "\n",
    "def odd(n):\n",
    "    if n % 2 == 0:\n",
    "        return True\n",
    "    else:\n",
    "        return False\n",
    "#     return True if n % 2 == 0 else False\n",
    "\n",
    "result = list(filter(odd, a))\n",
    "print(result)"
   ]
  },
  {
   "cell_type": "code",
   "execution_count": 17,
   "id": "1b43239c",
   "metadata": {
    "scrolled": false
   },
   "outputs": [
    {
     "name": "stdout",
     "output_type": "stream",
     "text": [
      "[0, 2, 4, 6, 8]\n"
     ]
    }
   ],
   "source": [
    "a = list(range(10))\n",
    "\n",
    "filter_lambda = list(filter(lambda x: x % 2 == 0, a))\n",
    "print(filter_lambda)"
   ]
  },
  {
   "cell_type": "code",
   "execution_count": 18,
   "id": "722ad6a6",
   "metadata": {},
   "outputs": [
    {
     "name": "stdout",
     "output_type": "stream",
     "text": [
      "3\n"
     ]
    }
   ],
   "source": [
    "c = lambda a, b: a + b\n",
    "\n",
    "print(c(1, 2))"
   ]
  },
  {
   "cell_type": "markdown",
   "id": "579b16c1",
   "metadata": {},
   "source": [
    "__lambda 는 여러줄을 지원하지 않는다!!__"
   ]
  },
  {
   "cell_type": "markdown",
   "id": "0f5e3fc0",
   "metadata": {},
   "source": [
    "# 재귀함수\n",
    "\n",
    "__함수 본인을 다시 호출하여 사용__\n",
    "\n",
    "### 장점\n",
    "1. 변수를 여러개 만들 필요가 없다\n",
    "    - 변수를 새로 만들 필요 없이 함수를 __재귀적으로 호출하면서 전달__ 하면 된다\n",
    "    \n",
    "2. while 이나 for 문 같은 반복문 사용하지 않아도 된다\n",
    "\n",
    "### 단점\n",
    "1. 지속적으로 함수를 호출 -> 지역변수, 매개변수, 반환값 등 함수에서 사용되는 것들이 모두 메모리에 쌓인다\n",
    "- 이는 속도저하를 일으키는 주 원인이 된다\n",
    "- 잘못하면 컴퓨터(프로그램) 터진다!!\n",
    "\n",
    "2. 함수 호출 -> 복귀 컨텍스트 스위칭 비용이 발생한다\n",
    "- 컨텍스트 스위칭 : 현재 실행중인 함수에서 다른 함수로 갈 때 혹은 돌아올 때 생기는 비용(시간, 메모리)"
   ]
  },
  {
   "cell_type": "markdown",
   "id": "f076232f",
   "metadata": {},
   "source": [
    "### 숫자n 를 입력받아 1~n 더하는 함수를 재귀로 구현하여라"
   ]
  },
  {
   "cell_type": "code",
   "execution_count": 22,
   "id": "2932afca",
   "metadata": {},
   "outputs": [
    {
     "name": "stdout",
     "output_type": "stream",
     "text": [
      "숫자 입력 : 10\n"
     ]
    },
    {
     "data": {
      "text/plain": [
       "55"
      ]
     },
     "execution_count": 22,
     "metadata": {},
     "output_type": "execute_result"
    }
   ],
   "source": [
    "n = int(input('숫자 입력 : '))\n",
    "\n",
    "def sum_func(n):\n",
    "    if n == 0:\n",
    "        return 0\n",
    "    return n + sum_func(n-1)\n",
    "\n",
    "sum_func(n)"
   ]
  },
  {
   "cell_type": "markdown",
   "id": "8d5db049",
   "metadata": {},
   "source": [
    "## [핵심!!]\n",
    "__종료 조건을 먼저 작성__  \n",
    "__반복할 대상을 잘 생각하는 것__"
   ]
  },
  {
   "cell_type": "markdown",
   "id": "74d48e13",
   "metadata": {},
   "source": [
    "__코딩 테스트 단골문제 : 피보나치, 하노이의 탑, 최소 공배수__"
   ]
  },
  {
   "cell_type": "markdown",
   "id": "1ece1db8",
   "metadata": {},
   "source": [
    "# Module\n",
    "\n",
    "- 배포할 때 사용"
   ]
  },
  {
   "cell_type": "markdown",
   "id": "ffb3bb8d",
   "metadata": {},
   "source": [
    "# 가상환경\n",
    "\n",
    "내일 하겠습니다"
   ]
  },
  {
   "cell_type": "code",
   "execution_count": null,
   "id": "39f9e913",
   "metadata": {},
   "outputs": [],
   "source": []
  }
 ],
 "metadata": {
  "kernelspec": {
   "display_name": "Python 3 (ipykernel)",
   "language": "python",
   "name": "python3"
  },
  "language_info": {
   "codemirror_mode": {
    "name": "ipython",
    "version": 3
   },
   "file_extension": ".py",
   "mimetype": "text/x-python",
   "name": "python",
   "nbconvert_exporter": "python",
   "pygments_lexer": "ipython3",
   "version": "3.8.7"
  },
  "toc": {
   "base_numbering": 1,
   "nav_menu": {},
   "number_sections": true,
   "sideBar": true,
   "skip_h1_title": false,
   "title_cell": "Table of Contents",
   "title_sidebar": "Contents",
   "toc_cell": false,
   "toc_position": {},
   "toc_section_display": true,
   "toc_window_display": false
  }
 },
 "nbformat": 4,
 "nbformat_minor": 5
}
