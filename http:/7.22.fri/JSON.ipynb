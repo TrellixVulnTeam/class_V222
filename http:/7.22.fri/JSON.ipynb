{
 "cells": [
  {
   "cell_type": "markdown",
   "id": "5ff87d4a",
   "metadata": {},
   "source": [
    "# JSON\n",
    "\n",
    "## JSON 이란 ?\n",
    "__JSON(JavaScript Object Notation)__ 은  \n",
    "__`속성-값 쌍` 또는 `키-값 쌍`으로 이루어진 데이터 오브젝트를 전달하기 위해 인간이 읽을 수 있는 텍스트를 사용하는 개방형 표준 포맷__  \n",
    "특히, __인터넷에서 자료를 주고받을 때 그 자료를 표현하는 방법__  \n",
    "</br>\n",
    "출처: [위키백과](https://ko.wikipedia.org/wiki/JSON)"
   ]
  },
  {
   "cell_type": "markdown",
   "id": "8d5d5a95",
   "metadata": {},
   "source": [
    "## JSON 의 특징\n",
    "\n",
    "- 서버와 클라이언트 간의 교류에서 일반적으로 많이 사용된다.\n",
    "- 이름에서 알 수 있듯이, 자바스크립트에서 파생되었으므로 자바스크립트 객체 표기법과 아주 유사하다.\n",
    "- 자바스크립트의 문법과 굉장히 유사하지만 __텍스트 형식__ 일 뿐이다.\n",
    "- 다른 프로그래밍 언어를 이용해서도 쉽게 만들 수 있다.\n",
    "- 특정 언어에 종속되지 않으며(__언어 독립적이다__), 대부분의 프로그래밍 언어에서 JSON 포맷의 데이터를 핸들링 할 수 있는 라이브러리를 제공한다."
   ]
  },
  {
   "cell_type": "markdown",
   "id": "94b398db",
   "metadata": {},
   "source": [
    "__쉽게 말하면 그냥 데이터 전달 형식이다 !!__"
   ]
  },
  {
   "cell_type": "markdown",
   "id": "16d419cd",
   "metadata": {},
   "source": [
    "## JSON 예시"
   ]
  },
  {
   "cell_type": "code",
   "execution_count": null,
   "id": "050b3c22",
   "metadata": {},
   "outputs": [],
   "source": [
    "{\n",
    "  \"SSAFY\": [\n",
    "    {\n",
    "      \"name\": \"금기륜\",\n",
    "      \"role\": \"강사\"\n",
    "    },\n",
    "    {\n",
    "      \"name\": \"정혜수\",\n",
    "      \"role\": \"반장\"\n",
    "    },\n",
    "    {\n",
    "      \"name\": \"문영식\",\n",
    "      \"role\": \"부반장\"\n",
    "    } \n",
    "  ]\n",
    "}"
   ]
  },
  {
   "cell_type": "markdown",
   "id": "7adaee88",
   "metadata": {},
   "source": [
    "## JSON 장점\n",
    "\n",
    "- 내용이 함축적으로 최소한의 정보만을 가지고 있음\n",
    "    - XML 에 비해 용량이 줄어들고 그만큼 속도가 빠름\n",
    "    \n",
    "- 언어에 독립적이다\n",
    "    - 언어에 상관없이 사용 가능\n",
    "\n",
    "- 사용하기가 쉽다"
   ]
  },
  {
   "cell_type": "markdown",
   "id": "5d8571e1",
   "metadata": {},
   "source": [
    "## JSON 단점\n",
    "\n",
    "- 내용이 함축적이다 보니 의미 파악이 힘들 때도 있음\n",
    "    - 주석이 불가능한 것도 큰 단점\n",
    "    - 안에 포함된 내용을 잘 작성하여야 한다\n",
    "\n",
    "- 경량의 데이터 교환 형식이기 때문에 XML보다 빠르지만, 대용량급의 데이터 송수신에는 부적합한 부분도 존재함\n",
    "\n",
    "- 문법 오류에 취약함\n",
    "    - 오타 등 신경써서 작성해야함"
   ]
  },
  {
   "cell_type": "markdown",
   "id": "38ca4bb5",
   "metadata": {},
   "source": [
    "## JSON 사용하기"
   ]
  },
  {
   "cell_type": "code",
   "execution_count": null,
   "id": "0632d55e",
   "metadata": {
    "scrolled": true
   },
   "outputs": [],
   "source": [
    "if __name__ == '__main__':\n",
    "    # json 파일 열기\n",
    "    movie_json = open('data/movie.json', encoding='utf-8')\n",
    "    \n",
    "    # json 파일을 dictionary 형태로 변경\n",
    "    movie_dict = json.load(movie_json)\n",
    "    \n",
    "    # 함수를 통해 출력\n",
    "    pprint(movie_info(movie_dict))"
   ]
  },
  {
   "cell_type": "markdown",
   "id": "40fe9664",
   "metadata": {},
   "source": [
    "## pprint\n",
    "\n",
    "__Pretty print__ 로, 딕셔러니, 리스트 등의 데이터들을 눈에 보기 좋게 출력해주는 함수"
   ]
  },
  {
   "cell_type": "code",
   "execution_count": null,
   "id": "45c7c9bc",
   "metadata": {
    "scrolled": true
   },
   "outputs": [],
   "source": [
    "import json\n",
    " \n",
    "# 테스트용 Python Dictionary\n",
    "our_class = {\n",
    "  \"SSAFY\": [\n",
    "    {\n",
    "      \"name\": \"giryun\",\n",
    "      \"role\": \"professor\"\n",
    "    },\n",
    "    {\n",
    "      \"name\": \"hyesu\",\n",
    "      \"role\": \"ggang\"\n",
    "    },\n",
    "    {\n",
    "      \"name\": \"yeongsik\",\n",
    "      \"role\": \"buggang\"\n",
    "    } \n",
    "  ]\n",
    "}"
   ]
  },
  {
   "cell_type": "markdown",
   "id": "058c3007",
   "metadata": {},
   "source": [
    "__파이썬의 딕셔너리와 똑같이 생겼다 !!__"
   ]
  },
  {
   "cell_type": "code",
   "execution_count": null,
   "id": "b47de523",
   "metadata": {},
   "outputs": [],
   "source": [
    "print(our_class)"
   ]
  },
  {
   "cell_type": "code",
   "execution_count": null,
   "id": "7ea00a83",
   "metadata": {},
   "outputs": [],
   "source": [
    "# JSON 인코딩\n",
    "jsonString = json.dumps(our_class, indent=4)\n",
    " \n",
    "# 문자열 출력\n",
    "print(jsonString)"
   ]
  },
  {
   "cell_type": "markdown",
   "id": "b30d6b45",
   "metadata": {},
   "source": [
    "__헷갈린다면, type() 함수로 타입을 확인하면서 진행하기__"
   ]
  },
  {
   "cell_type": "code",
   "execution_count": null,
   "id": "39a18c8f",
   "metadata": {},
   "outputs": [],
   "source": [
    "print(type(our_class))"
   ]
  },
  {
   "cell_type": "code",
   "execution_count": null,
   "id": "0ff01d77",
   "metadata": {},
   "outputs": [],
   "source": [
    "# JSON 인코딩\n",
    "jsonString = json.dumps(our_class, indent=4)\n",
    " \n",
    "# 문자열 출력\n",
    "print(type(jsonString))"
   ]
  },
  {
   "cell_type": "code",
   "execution_count": null,
   "id": "ed08dd1d",
   "metadata": {},
   "outputs": [],
   "source": [
    "import json\n",
    "from pprint import pprint\n",
    "\n",
    "\n",
    "def movie_info(movie):\n",
    "    pass \n",
    "    # 여기에 코드를 작성합니다.    \n",
    "\n",
    "\n",
    "# 아래의 코드는 수정하지 않습니다.\n",
    "if __name__ == '__main__':\n",
    "    movie_json = open('data/movie.json', encoding='utf-8')\n",
    "    print(movie_json)\n",
    "    movie_dict = json.load(movie_json)\n",
    "    print(movie_dict)\n",
    "    print(type(movie_dict))\n",
    "    \n",
    "    pprint(movie_info(movie_dict))\n"
   ]
  },
  {
   "cell_type": "code",
   "execution_count": null,
   "id": "0ee4e7bc",
   "metadata": {},
   "outputs": [],
   "source": []
  }
 ],
 "metadata": {
  "kernelspec": {
   "display_name": "Python 3 (ipykernel)",
   "language": "python",
   "name": "python3"
  },
  "language_info": {
   "codemirror_mode": {
    "name": "ipython",
    "version": 3
   },
   "file_extension": ".py",
   "mimetype": "text/x-python",
   "name": "python",
   "nbconvert_exporter": "python",
   "pygments_lexer": "ipython3",
   "version": "3.9.13"
  },
  "toc": {
   "base_numbering": 1,
   "nav_menu": {},
   "number_sections": true,
   "sideBar": true,
   "skip_h1_title": false,
   "title_cell": "Table of Contents",
   "title_sidebar": "Contents",
   "toc_cell": false,
   "toc_position": {},
   "toc_section_display": true,
   "toc_window_display": false
  }
 },
 "nbformat": 4,
 "nbformat_minor": 5
}
